{
 "cells": [
  {
   "cell_type": "code",
   "execution_count": 1,
   "id": "bf21ebab-0d47-4c98-9f74-5de358f2af0f",
   "metadata": {},
   "outputs": [],
   "source": [
    "# IMPORT THE NECESSARY LIBRAIES\n",
    "import pandas as pd\n",
    "import warnings\n",
    "warnings.filterwarnings(\"ignore\")"
   ]
  },
  {
   "cell_type": "code",
   "execution_count": 2,
   "id": "dec1dbb7-7770-4fab-8a94-3f308cf8bb86",
   "metadata": {},
   "outputs": [],
   "source": [
    "# ************************************************#"
   ]
  },
  {
   "cell_type": "code",
   "execution_count": 3,
   "id": "c353b6b8-a153-42e1-9c14-b49b5457f6c3",
   "metadata": {},
   "outputs": [],
   "source": [
    "dataset = pd.read_csv(\"C://Users//Deepak//Documents//Training.csv\")"
   ]
  },
  {
   "cell_type": "code",
   "execution_count": 4,
   "id": "aa8063b6-1a44-4853-aff2-15470b30d47d",
   "metadata": {},
   "outputs": [
    {
     "data": {
      "text/html": [
       "<div>\n",
       "<style scoped>\n",
       "    .dataframe tbody tr th:only-of-type {\n",
       "        vertical-align: middle;\n",
       "    }\n",
       "\n",
       "    .dataframe tbody tr th {\n",
       "        vertical-align: top;\n",
       "    }\n",
       "\n",
       "    .dataframe thead th {\n",
       "        text-align: right;\n",
       "    }\n",
       "</style>\n",
       "<table border=\"1\" class=\"dataframe\">\n",
       "  <thead>\n",
       "    <tr style=\"text-align: right;\">\n",
       "      <th></th>\n",
       "      <th>itching</th>\n",
       "      <th>skin_rash</th>\n",
       "      <th>nodal_skin_eruptions</th>\n",
       "      <th>continuous_sneezing</th>\n",
       "      <th>shivering</th>\n",
       "      <th>chills</th>\n",
       "      <th>joint_pain</th>\n",
       "      <th>stomach_pain</th>\n",
       "      <th>acidity</th>\n",
       "      <th>ulcers_on_tongue</th>\n",
       "      <th>...</th>\n",
       "      <th>blackheads</th>\n",
       "      <th>scurring</th>\n",
       "      <th>skin_peeling</th>\n",
       "      <th>silver_like_dusting</th>\n",
       "      <th>small_dents_in_nails</th>\n",
       "      <th>inflammatory_nails</th>\n",
       "      <th>blister</th>\n",
       "      <th>red_sore_around_nose</th>\n",
       "      <th>yellow_crust_ooze</th>\n",
       "      <th>prognosis</th>\n",
       "    </tr>\n",
       "  </thead>\n",
       "  <tbody>\n",
       "    <tr>\n",
       "      <th>0</th>\n",
       "      <td>1</td>\n",
       "      <td>1</td>\n",
       "      <td>1</td>\n",
       "      <td>0</td>\n",
       "      <td>0</td>\n",
       "      <td>0</td>\n",
       "      <td>0</td>\n",
       "      <td>0</td>\n",
       "      <td>0</td>\n",
       "      <td>0</td>\n",
       "      <td>...</td>\n",
       "      <td>0</td>\n",
       "      <td>0</td>\n",
       "      <td>0</td>\n",
       "      <td>0</td>\n",
       "      <td>0</td>\n",
       "      <td>0</td>\n",
       "      <td>0</td>\n",
       "      <td>0</td>\n",
       "      <td>0</td>\n",
       "      <td>Fungal infection</td>\n",
       "    </tr>\n",
       "    <tr>\n",
       "      <th>1</th>\n",
       "      <td>0</td>\n",
       "      <td>1</td>\n",
       "      <td>1</td>\n",
       "      <td>0</td>\n",
       "      <td>0</td>\n",
       "      <td>0</td>\n",
       "      <td>0</td>\n",
       "      <td>0</td>\n",
       "      <td>0</td>\n",
       "      <td>0</td>\n",
       "      <td>...</td>\n",
       "      <td>0</td>\n",
       "      <td>0</td>\n",
       "      <td>0</td>\n",
       "      <td>0</td>\n",
       "      <td>0</td>\n",
       "      <td>0</td>\n",
       "      <td>0</td>\n",
       "      <td>0</td>\n",
       "      <td>0</td>\n",
       "      <td>Fungal infection</td>\n",
       "    </tr>\n",
       "    <tr>\n",
       "      <th>2</th>\n",
       "      <td>1</td>\n",
       "      <td>0</td>\n",
       "      <td>1</td>\n",
       "      <td>0</td>\n",
       "      <td>0</td>\n",
       "      <td>0</td>\n",
       "      <td>0</td>\n",
       "      <td>0</td>\n",
       "      <td>0</td>\n",
       "      <td>0</td>\n",
       "      <td>...</td>\n",
       "      <td>0</td>\n",
       "      <td>0</td>\n",
       "      <td>0</td>\n",
       "      <td>0</td>\n",
       "      <td>0</td>\n",
       "      <td>0</td>\n",
       "      <td>0</td>\n",
       "      <td>0</td>\n",
       "      <td>0</td>\n",
       "      <td>Fungal infection</td>\n",
       "    </tr>\n",
       "    <tr>\n",
       "      <th>3</th>\n",
       "      <td>1</td>\n",
       "      <td>1</td>\n",
       "      <td>0</td>\n",
       "      <td>0</td>\n",
       "      <td>0</td>\n",
       "      <td>0</td>\n",
       "      <td>0</td>\n",
       "      <td>0</td>\n",
       "      <td>0</td>\n",
       "      <td>0</td>\n",
       "      <td>...</td>\n",
       "      <td>0</td>\n",
       "      <td>0</td>\n",
       "      <td>0</td>\n",
       "      <td>0</td>\n",
       "      <td>0</td>\n",
       "      <td>0</td>\n",
       "      <td>0</td>\n",
       "      <td>0</td>\n",
       "      <td>0</td>\n",
       "      <td>Fungal infection</td>\n",
       "    </tr>\n",
       "    <tr>\n",
       "      <th>4</th>\n",
       "      <td>1</td>\n",
       "      <td>1</td>\n",
       "      <td>1</td>\n",
       "      <td>0</td>\n",
       "      <td>0</td>\n",
       "      <td>0</td>\n",
       "      <td>0</td>\n",
       "      <td>0</td>\n",
       "      <td>0</td>\n",
       "      <td>0</td>\n",
       "      <td>...</td>\n",
       "      <td>0</td>\n",
       "      <td>0</td>\n",
       "      <td>0</td>\n",
       "      <td>0</td>\n",
       "      <td>0</td>\n",
       "      <td>0</td>\n",
       "      <td>0</td>\n",
       "      <td>0</td>\n",
       "      <td>0</td>\n",
       "      <td>Fungal infection</td>\n",
       "    </tr>\n",
       "  </tbody>\n",
       "</table>\n",
       "<p>5 rows × 133 columns</p>\n",
       "</div>"
      ],
      "text/plain": [
       "   itching  skin_rash  nodal_skin_eruptions  continuous_sneezing  shivering  \\\n",
       "0        1          1                     1                    0          0   \n",
       "1        0          1                     1                    0          0   \n",
       "2        1          0                     1                    0          0   \n",
       "3        1          1                     0                    0          0   \n",
       "4        1          1                     1                    0          0   \n",
       "\n",
       "   chills  joint_pain  stomach_pain  acidity  ulcers_on_tongue  ...  \\\n",
       "0       0           0             0        0                 0  ...   \n",
       "1       0           0             0        0                 0  ...   \n",
       "2       0           0             0        0                 0  ...   \n",
       "3       0           0             0        0                 0  ...   \n",
       "4       0           0             0        0                 0  ...   \n",
       "\n",
       "   blackheads  scurring  skin_peeling  silver_like_dusting  \\\n",
       "0           0         0             0                    0   \n",
       "1           0         0             0                    0   \n",
       "2           0         0             0                    0   \n",
       "3           0         0             0                    0   \n",
       "4           0         0             0                    0   \n",
       "\n",
       "   small_dents_in_nails  inflammatory_nails  blister  red_sore_around_nose  \\\n",
       "0                     0                   0        0                     0   \n",
       "1                     0                   0        0                     0   \n",
       "2                     0                   0        0                     0   \n",
       "3                     0                   0        0                     0   \n",
       "4                     0                   0        0                     0   \n",
       "\n",
       "   yellow_crust_ooze         prognosis  \n",
       "0                  0  Fungal infection  \n",
       "1                  0  Fungal infection  \n",
       "2                  0  Fungal infection  \n",
       "3                  0  Fungal infection  \n",
       "4                  0  Fungal infection  \n",
       "\n",
       "[5 rows x 133 columns]"
      ]
     },
     "execution_count": 4,
     "metadata": {},
     "output_type": "execute_result"
    }
   ],
   "source": [
    "dataset.head()"
   ]
  },
  {
   "cell_type": "code",
   "execution_count": 5,
   "id": "57b1f135-ad65-4ff5-981f-c54d6f8f2713",
   "metadata": {},
   "outputs": [
    {
     "data": {
      "text/plain": [
       "(4920, 133)"
      ]
     },
     "execution_count": 5,
     "metadata": {},
     "output_type": "execute_result"
    }
   ],
   "source": [
    "dataset.shape"
   ]
  },
  {
   "cell_type": "code",
   "execution_count": 6,
   "id": "54db8a6c-93c5-4066-8105-7950bf3d73c7",
   "metadata": {},
   "outputs": [
    {
     "data": {
      "text/plain": [
       "array(['Fungal infection', 'Allergy', 'GERD', 'Chronic cholestasis',\n",
       "       'Drug Reaction', 'Peptic ulcer diseae', 'AIDS', 'Diabetes ',\n",
       "       'Gastroenteritis', 'Bronchial Asthma', 'Hypertension ', 'Migraine',\n",
       "       'Cervical spondylosis', 'Paralysis (brain hemorrhage)', 'Jaundice',\n",
       "       'Malaria', 'Chicken pox', 'Dengue', 'Typhoid', 'hepatitis A',\n",
       "       'Hepatitis B', 'Hepatitis C', 'Hepatitis D', 'Hepatitis E',\n",
       "       'Alcoholic hepatitis', 'Tuberculosis', 'Common Cold', 'Pneumonia',\n",
       "       'Dimorphic hemmorhoids(piles)', 'Heart attack', 'Varicose veins',\n",
       "       'Hypothyroidism', 'Hyperthyroidism', 'Hypoglycemia',\n",
       "       'Osteoarthristis', 'Arthritis',\n",
       "       '(vertigo) Paroymsal  Positional Vertigo', 'Acne',\n",
       "       'Urinary tract infection', 'Psoriasis', 'Impetigo'], dtype=object)"
      ]
     },
     "execution_count": 6,
     "metadata": {},
     "output_type": "execute_result"
    }
   ],
   "source": [
    "dataset['prognosis'].unique()"
   ]
  },
  {
   "cell_type": "code",
   "execution_count": 7,
   "id": "f6690b7f-7611-4cfb-b5b8-ac7fdfbf105f",
   "metadata": {},
   "outputs": [
    {
     "data": {
      "text/plain": [
       "41"
      ]
     },
     "execution_count": 7,
     "metadata": {},
     "output_type": "execute_result"
    }
   ],
   "source": [
    "len(dataset['prognosis'].unique())"
   ]
  },
  {
   "cell_type": "code",
   "execution_count": 8,
   "id": "c6492698-dbe7-4ace-9f91-019aea0a19d7",
   "metadata": {},
   "outputs": [],
   "source": [
    "#***************************************#"
   ]
  },
  {
   "cell_type": "markdown",
   "id": "84f9211c-a599-4d64-ada6-48abba214a6b",
   "metadata": {},
   "source": [
    "TRAIN TEST SPLIT"
   ]
  },
  {
   "cell_type": "code",
   "execution_count": 13,
   "id": "37f75e5e-2de5-4b42-9f7c-4094be563ba0",
   "metadata": {},
   "outputs": [],
   "source": [
    "# train test split process\n",
    "from sklearn.model_selection import train_test_split \n",
    "from sklearn.preprocessing import LabelEncoder\n"
   ]
  },
  {
   "cell_type": "code",
   "execution_count": 14,
   "id": "8e65e282-3604-4801-b779-47474f4c12b9",
   "metadata": {},
   "outputs": [],
   "source": [
    "X = dataset.drop('prognosis',axis = 1)\n",
    "y = dataset['prognosis']"
   ]
  },
  {
   "cell_type": "code",
   "execution_count": 15,
   "id": "f10d08a7-07dc-4924-bcb3-0d3508f9a512",
   "metadata": {},
   "outputs": [],
   "source": [
    "le = LabelEncoder()\n",
    "le = le.fit(y)\n",
    "Y  = le.transform(y)"
   ]
  },
  {
   "cell_type": "code",
   "execution_count": 16,
   "id": "b2030371-c8a7-4e15-8999-903cabea48fd",
   "metadata": {},
   "outputs": [],
   "source": [
    "# trian test split \n",
    "X_train,X_test,Y_train,Y_test = train_test_split(X,Y,test_size = 0.3 ,random_state = 20)"
   ]
  },
  {
   "cell_type": "code",
   "execution_count": 17,
   "id": "007b18d8-d98d-47cb-9ec1-9d706c318b7d",
   "metadata": {},
   "outputs": [
    {
     "data": {
      "text/plain": [
       "((3444, 132), (1476, 132), (3444,), (1476,))"
      ]
     },
     "execution_count": 17,
     "metadata": {},
     "output_type": "execute_result"
    }
   ],
   "source": [
    "X_train.shape,X_test.shape,Y_train.shape,Y_test.shape"
   ]
  },
  {
   "cell_type": "code",
   "execution_count": 18,
   "id": "de87e8b9-397f-46a6-97e9-9e9268377b3f",
   "metadata": {},
   "outputs": [],
   "source": [
    "#***************************************************#"
   ]
  },
  {
   "cell_type": "code",
   "execution_count": 19,
   "id": "05d561ee-bfca-461d-ba14-636346518838",
   "metadata": {},
   "outputs": [],
   "source": [
    "# top 5 models"
   ]
  },
  {
   "cell_type": "markdown",
   "id": "7c80e82b-abb9-4442-b984-eaa0689908db",
   "metadata": {},
   "source": [
    "TRAINING TOP 5 MODEL"
   ]
  },
  {
   "cell_type": "code",
   "execution_count": 20,
   "id": "f2e786b6-0bb7-4d80-9b97-cbd96f164348",
   "metadata": {},
   "outputs": [
    {
     "name": "stdout",
     "output_type": "stream",
     "text": [
      "SVC accuracy : 1.0\n",
      "SVC Confusion matrix :\n",
      "[[40, 0, 0,..., 0, 0, 0],\n",
      " [ 0,43, 0,..., 0, 0, 0],\n",
      " [ 0, 0,28,..., 0, 0, 0],\n",
      " ...,\n",
      " [ 0, 0, 0,...,34, 0, 0],\n",
      " [ 0, 0, 0,..., 0,41, 0],\n",
      " [ 0, 0, 0,..., 0, 0,31]]\n",
      "RandomForest accuracy : 1.0\n",
      "RandomForest Confusion matrix :\n",
      "[[40, 0, 0,..., 0, 0, 0],\n",
      " [ 0,43, 0,..., 0, 0, 0],\n",
      " [ 0, 0,28,..., 0, 0, 0],\n",
      " ...,\n",
      " [ 0, 0, 0,...,34, 0, 0],\n",
      " [ 0, 0, 0,..., 0,41, 0],\n",
      " [ 0, 0, 0,..., 0, 0,31]]\n",
      "GradientBoosting accuracy : 1.0\n",
      "GradientBoosting Confusion matrix :\n",
      "[[40, 0, 0,..., 0, 0, 0],\n",
      " [ 0,43, 0,..., 0, 0, 0],\n",
      " [ 0, 0,28,..., 0, 0, 0],\n",
      " ...,\n",
      " [ 0, 0, 0,...,34, 0, 0],\n",
      " [ 0, 0, 0,..., 0,41, 0],\n",
      " [ 0, 0, 0,..., 0, 0,31]]\n",
      "KNeighbours accuracy : 1.0\n",
      "KNeighbours Confusion matrix :\n",
      "[[40, 0, 0,..., 0, 0, 0],\n",
      " [ 0,43, 0,..., 0, 0, 0],\n",
      " [ 0, 0,28,..., 0, 0, 0],\n",
      " ...,\n",
      " [ 0, 0, 0,...,34, 0, 0],\n",
      " [ 0, 0, 0,..., 0,41, 0],\n",
      " [ 0, 0, 0,..., 0, 0,31]]\n",
      "MultinomialNB accuracy : 1.0\n",
      "MultinomialNB Confusion matrix :\n",
      "[[40, 0, 0,..., 0, 0, 0],\n",
      " [ 0,43, 0,..., 0, 0, 0],\n",
      " [ 0, 0,28,..., 0, 0, 0],\n",
      " ...,\n",
      " [ 0, 0, 0,...,34, 0, 0],\n",
      " [ 0, 0, 0,..., 0,41, 0],\n",
      " [ 0, 0, 0,..., 0, 0,31]]\n"
     ]
    }
   ],
   "source": [
    "from sklearn.datasets import make_classification\n",
    "from sklearn.svm import SVC\n",
    "from sklearn.ensemble import RandomForestClassifier ,GradientBoostingClassifier\n",
    "from sklearn.neighbors import KNeighborsClassifier\n",
    "from sklearn.naive_bayes import MultinomialNB\n",
    "\n",
    "from sklearn.metrics import accuracy_score ,confusion_matrix \n",
    "import numpy as np\n",
    "\n",
    "#create a dictonary to store models\n",
    "models ={\n",
    "  \"SVC\": SVC(kernel ='linear'),\n",
    "  \"RandomForest\": RandomForestClassifier(n_estimators =100,random_state = 42),\n",
    "   \"GradientBoosting\": GradientBoostingClassifier(n_estimators =100,random_state = 42),\n",
    "    \"KNeighbours\": KNeighborsClassifier(n_neighbors =5),\n",
    "    \"MultinomialNB\": MultinomialNB()\n",
    "}\n",
    "for model_name , model in models.items():\n",
    "    # train model\n",
    "    model.fit(X_train,Y_train)\n",
    "\n",
    "    # test model\n",
    "    predictions = model.predict(X_test)\n",
    "\n",
    "   # calculate accuracy\n",
    "    accuracy = accuracy_score(Y_test,predictions)\n",
    "\n",
    "   # calculate confusion matrix\n",
    "    cm = confusion_matrix(Y_test,predictions)\n",
    "    print(f\"{model_name} accuracy : {accuracy}\")\n",
    "    print(f\"{model_name} Confusion matrix :\")\n",
    "    print(np.array2string(cm,separator =','))\n",
    "    "
   ]
  },
  {
   "cell_type": "code",
   "execution_count": 21,
   "id": "d17c2044-6f47-43e8-886d-ce8f2a18f440",
   "metadata": {},
   "outputs": [],
   "source": [
    "#****************************************************#"
   ]
  },
  {
   "cell_type": "code",
   "execution_count": 22,
   "id": "a0a45eaa-1d6b-4312-8ed3-f216b8dbb364",
   "metadata": {},
   "outputs": [],
   "source": [
    "#single predicrtion\n",
    "#single prediction\n"
   ]
  },
  {
   "cell_type": "markdown",
   "id": "85c62720-af2d-478b-8123-186fa447b2ac",
   "metadata": {},
   "source": [
    "SINGLE PREDICTION"
   ]
  },
  {
   "cell_type": "code",
   "execution_count": 23,
   "id": "a91008a2-6b3f-4b2f-9393-6c1b9c380c67",
   "metadata": {},
   "outputs": [
    {
     "data": {
      "text/plain": [
       "1.0"
      ]
     },
     "execution_count": 23,
     "metadata": {},
     "output_type": "execute_result"
    }
   ],
   "source": [
    "svc = SVC(kernel = 'linear')\n",
    "svc.fit(X_train,Y_train)\n",
    "ypred = svc.predict(X_test)\n",
    "accuracy_score(Y_test,ypred)"
   ]
  },
  {
   "cell_type": "code",
   "execution_count": 24,
   "id": "24d9fe03-9015-4c78-9b6f-8e35e21fd82f",
   "metadata": {},
   "outputs": [],
   "source": [
    "# saving model\n",
    "import pickle \n",
    "pickle.dump(svc,open(\"models/svc.pkl\",'wb'))"
   ]
  },
  {
   "cell_type": "code",
   "execution_count": 25,
   "id": "4246d59b-43ce-40ce-bfae-3c340f2fd4a6",
   "metadata": {},
   "outputs": [],
   "source": [
    "# loading model\n",
    "svc = pickle.load(open(\"models/svc.pkl\",'rb'))"
   ]
  },
  {
   "cell_type": "code",
   "execution_count": 26,
   "id": "de33de79-dbe1-4e91-95ba-98a0307c96f2",
   "metadata": {},
   "outputs": [
    {
     "name": "stdout",
     "output_type": "stream",
     "text": [
      "Predicted Label : [40]\n",
      "Actual Label : 40\n"
     ]
    }
   ],
   "source": [
    " #test case 1\n",
    "print(\"Predicted Label :\",svc.predict(X_test.iloc[0].values.reshape(1,-1)))\n",
    "print(\"Actual Label :\" ,Y_test[0])\n"
   ]
  },
  {
   "cell_type": "code",
   "execution_count": 27,
   "id": "027f1262-6325-4a93-8df7-76af3c3b43c3",
   "metadata": {},
   "outputs": [
    {
     "name": "stdout",
     "output_type": "stream",
     "text": [
      "Predicted Label : [20]\n",
      "Actual Label : 20\n"
     ]
    }
   ],
   "source": [
    "# test case 2\n",
    "print(\"Predicted Label :\",svc.predict(X_test.iloc[10].values.reshape(1,-1)))\n",
    "print(\"Actual Label :\" ,Y_test[10])"
   ]
  },
  {
   "cell_type": "code",
   "execution_count": 28,
   "id": "59f93968-328c-44f7-af97-be69c8d9938e",
   "metadata": {},
   "outputs": [
    {
     "name": "stdout",
     "output_type": "stream",
     "text": [
      "Predicted Label : [39]\n",
      "Actual Label : 39\n"
     ]
    }
   ],
   "source": [
    "# test case 3\n",
    "print(\"Predicted Label :\",svc.predict(X_test.iloc[100].values.reshape(1,-1)))\n",
    "print(\"Actual Label :\" ,Y_test[100])"
   ]
  },
  {
   "cell_type": "code",
   "execution_count": 29,
   "id": "d934493c-f1f3-4f50-a64c-d90396da9984",
   "metadata": {},
   "outputs": [],
   "source": [
    "#********************************************************#"
   ]
  },
  {
   "cell_type": "markdown",
   "id": "8b70ad40-0349-4b9b-9ff1-8cbb89ef0ffd",
   "metadata": {},
   "source": [
    "RECOMMENDATION SYSTEM AND PREDICTION"
   ]
  },
  {
   "cell_type": "code",
   "execution_count": 30,
   "id": "f975e984-bebd-4b91-94ba-23a114c38732",
   "metadata": {},
   "outputs": [],
   "source": [
    "# LOAD DATABASE AND USE LOGIC FOR RECOMMENDATIONS"
   ]
  },
  {
   "cell_type": "code",
   "execution_count": 31,
   "id": "95348bb7-3d5e-421e-bfe6-a1b529b094f0",
   "metadata": {},
   "outputs": [],
   "source": [
    "# to create a helper function for predicting the disease\n",
    "def helper(dis):\n",
    "    # description \n",
    "    desc = description[description['Disease'] ==dis]['Description']\n",
    "    desc =\" \".join([w for w in desc])\n",
    "    # precautions \n",
    "    pre =precautions[precautions['Disease'] ==  dis][['Precaution_1','Precaution_2','Precaution_3','Precaution_4']]\n",
    "    pre = [col  for col  in pre.values]\n",
    "    # medictions\n",
    "    med  = medications[medications['Disease'] == dis ]['Medication']\n",
    "    med = [med for med in med.values]\n",
    "    # diets\n",
    "    die = diets[diets['Disease'] ==dis ]['Diet']\n",
    "    die = [ die for die in die.values]\n",
    "    # workout\n",
    "    wrkout = workout[workout['disease'] == dis ]['workout']\n",
    "    return desc ,pre,med,die,wrkout\n",
    "\n",
    "\n",
    "\n",
    "\n",
    "sys_des = pd.read_csv(\"C://Users//Deepak//Documents//symtoms_df.csv\")\n",
    "precautions = pd.read_csv(\"C://Users//Deepak//Documents//precautions_df.csv\")\n",
    "workout = pd.read_csv(\"C://Users//Deepak//Documents//workout_df.csv\")\n",
    "medications = pd.read_csv(\"C://Users//Deepak//Documents//medications.csv\")\n",
    "description = pd.read_csv(\"C://Users//Deepak//Documents//description.csv\")\n",
    "diets = pd.read_csv(\"C://Users//Deepak//Documents//diets.csv\")"
   ]
  },
  {
   "cell_type": "code",
   "execution_count": 32,
   "id": "f967ebc7-99cd-4a0d-89ca-bff636fd58cb",
   "metadata": {},
   "outputs": [
    {
     "data": {
      "text/html": [
       "<div>\n",
       "<style scoped>\n",
       "    .dataframe tbody tr th:only-of-type {\n",
       "        vertical-align: middle;\n",
       "    }\n",
       "\n",
       "    .dataframe tbody tr th {\n",
       "        vertical-align: top;\n",
       "    }\n",
       "\n",
       "    .dataframe thead th {\n",
       "        text-align: right;\n",
       "    }\n",
       "</style>\n",
       "<table border=\"1\" class=\"dataframe\">\n",
       "  <thead>\n",
       "    <tr style=\"text-align: right;\">\n",
       "      <th></th>\n",
       "      <th>Unnamed: 0</th>\n",
       "      <th>Disease</th>\n",
       "      <th>Symptom_1</th>\n",
       "      <th>Symptom_2</th>\n",
       "      <th>Symptom_3</th>\n",
       "      <th>Symptom_4</th>\n",
       "    </tr>\n",
       "  </thead>\n",
       "  <tbody>\n",
       "    <tr>\n",
       "      <th>0</th>\n",
       "      <td>0</td>\n",
       "      <td>Fungal infection</td>\n",
       "      <td>itching</td>\n",
       "      <td>skin_rash</td>\n",
       "      <td>nodal_skin_eruptions</td>\n",
       "      <td>dischromic _patches</td>\n",
       "    </tr>\n",
       "    <tr>\n",
       "      <th>1</th>\n",
       "      <td>1</td>\n",
       "      <td>Fungal infection</td>\n",
       "      <td>skin_rash</td>\n",
       "      <td>nodal_skin_eruptions</td>\n",
       "      <td>dischromic _patches</td>\n",
       "      <td>NaN</td>\n",
       "    </tr>\n",
       "    <tr>\n",
       "      <th>2</th>\n",
       "      <td>2</td>\n",
       "      <td>Fungal infection</td>\n",
       "      <td>itching</td>\n",
       "      <td>nodal_skin_eruptions</td>\n",
       "      <td>dischromic _patches</td>\n",
       "      <td>NaN</td>\n",
       "    </tr>\n",
       "    <tr>\n",
       "      <th>3</th>\n",
       "      <td>3</td>\n",
       "      <td>Fungal infection</td>\n",
       "      <td>itching</td>\n",
       "      <td>skin_rash</td>\n",
       "      <td>dischromic _patches</td>\n",
       "      <td>NaN</td>\n",
       "    </tr>\n",
       "    <tr>\n",
       "      <th>4</th>\n",
       "      <td>4</td>\n",
       "      <td>Fungal infection</td>\n",
       "      <td>itching</td>\n",
       "      <td>skin_rash</td>\n",
       "      <td>nodal_skin_eruptions</td>\n",
       "      <td>NaN</td>\n",
       "    </tr>\n",
       "  </tbody>\n",
       "</table>\n",
       "</div>"
      ],
      "text/plain": [
       "   Unnamed: 0           Disease   Symptom_1              Symptom_2  \\\n",
       "0           0  Fungal infection     itching              skin_rash   \n",
       "1           1  Fungal infection   skin_rash   nodal_skin_eruptions   \n",
       "2           2  Fungal infection     itching   nodal_skin_eruptions   \n",
       "3           3  Fungal infection     itching              skin_rash   \n",
       "4           4  Fungal infection     itching              skin_rash   \n",
       "\n",
       "               Symptom_3             Symptom_4  \n",
       "0   nodal_skin_eruptions   dischromic _patches  \n",
       "1    dischromic _patches                   NaN  \n",
       "2    dischromic _patches                   NaN  \n",
       "3    dischromic _patches                   NaN  \n",
       "4   nodal_skin_eruptions                   NaN  "
      ]
     },
     "execution_count": 32,
     "metadata": {},
     "output_type": "execute_result"
    }
   ],
   "source": [
    "sys_des.head()"
   ]
  },
  {
   "cell_type": "code",
   "execution_count": 33,
   "id": "86a03230-19d9-4730-8214-b3b53bdc10a1",
   "metadata": {},
   "outputs": [],
   "source": [
    "#***************************************#"
   ]
  },
  {
   "cell_type": "code",
   "execution_count": 34,
   "id": "50393a80-7003-4c86-a0ef-b4fb35a743fc",
   "metadata": {},
   "outputs": [],
   "source": [
    "# to create model prediction function"
   ]
  },
  {
   "cell_type": "code",
   "execution_count": 35,
   "id": "f9a14d2b-0dba-477c-bbca-f4be7c7bab59",
   "metadata": {},
   "outputs": [],
   "source": [
    "# SYMPTOMS DICTIONARY"
   ]
  },
  {
   "cell_type": "code",
   "execution_count": 36,
   "id": "7dab1bb5-a3dc-4098-ab3e-9a3772ec7c6e",
   "metadata": {},
   "outputs": [],
   "source": [
    "symptoms_dict ={'itching':0,\n",
    " 'skin_rash':1,\n",
    " 'nodal_skin_eruptions':2,\n",
    " 'continuous_sneezing':3,\n",
    " 'shivering':4,\n",
    " 'chills':5,\n",
    " 'joint_pain':6,\n",
    " 'stomach_pain':7,\n",
    " 'acidity':8,\n",
    " 'ulcers_on_tongue':9,\n",
    " 'muscle_wasting':10,\n",
    " 'vomiting':11,\n",
    " 'burning_micturition':12,\n",
    " 'spotting_ urination':13,\n",
    " 'fatigue':14,\n",
    " 'weight_gain':15,\n",
    " 'anxiety':16,\n",
    " 'cold_hands_and_feets':17,\n",
    " 'mood_swings':18,\n",
    " 'weight_loss':19,\n",
    " 'restlessness':20,\n",
    " 'lethargy':21,\n",
    " 'patches_in_throat':22,\n",
    " 'irregular_sugar_level':23,\n",
    " 'cough':24,\n",
    " 'high_fever':25,\n",
    " 'sunken_eyes':26,\n",
    " 'breathlessness':27,\n",
    " 'sweating':28,\n",
    " 'dehydration':29,\n",
    " 'indigestion':30,\n",
    " 'headache':31,\n",
    " 'yellowish_skin':32,\n",
    " 'dark_urine':33,\n",
    " 'nausea':34,\n",
    " 'loss_of_appetite':35,\n",
    " 'pain_behind_the_eyes':36,\n",
    " 'back_pain':37,\n",
    " 'constipation':38,\n",
    " 'abdominal_pain':39,\n",
    " 'diarrhoea':40,\n",
    " 'mild_fever':41,\n",
    " 'yellow_urine':42,\n",
    " 'yellowing_of_eyes':43,\n",
    " 'acute_liver_failure':44,\n",
    " 'fluid_overload':45,\n",
    " 'swelling_of_stomach':46,\n",
    " 'swelled_lymph_nodes':47,\n",
    " 'malaise':48,\n",
    " 'blurred_and_distorted_vision':49,\n",
    " 'phlegm':50,\n",
    " 'throat_irritation':51,\n",
    " 'redness_of_eyes':52,\n",
    " 'sinus_pressure':53,\n",
    " 'runny_nose':54,\n",
    " 'congestion':55,\n",
    " 'chest_pain':56,\n",
    " 'weakness_in_limbs':57,\n",
    " 'fast_heart_rate':58,\n",
    " 'pain_during_bowel_movements':59,\n",
    " 'pain_in_anal_region':60,\n",
    " 'bloody_stool':61,\n",
    " 'irritation_in_anus':62,\n",
    " 'neck_pain':63,\n",
    " 'dizziness':64,\n",
    " 'cramps':65,\n",
    " 'bruising':66,\n",
    " 'obesity':67,\n",
    " 'swollen_legs':68,\n",
    " 'swollen_blood_vessels':69,\n",
    " 'puffy_face_and_eyes':70,\n",
    " 'enlarged_thyroid':71,\n",
    " 'brittle_nails':72,\n",
    " 'swollen_extremeties':73,\n",
    " 'excessive_hunger':74,\n",
    " 'extra_marital_contacts':75,\n",
    " 'drying_and_tingling_lips':76,\n",
    " 'slurred_speech':77,\n",
    " 'knee_pain':78,\n",
    " 'hip_joint_pain':79,\n",
    " 'muscle_weakness':80,\n",
    " 'stiff_neck':81,\n",
    " 'swelling_joints':82,\n",
    " 'movement_stiffness':83,\n",
    " 'spinning_movements':84,\n",
    " 'loss_of_balance':85,\n",
    " 'unsteadiness':86,\n",
    " 'weakness_of_one_body_side':87,\n",
    " 'loss_of_smell':88,\n",
    " 'bladder_discomfort':89,\n",
    " 'foul_smell_of urine':90,\n",
    " 'continuous_feel_of_urine':91,\n",
    " 'passage_of_gases':92,\n",
    " 'internal_itching':93,\n",
    " 'toxic_look_(typhos)':94,\n",
    " 'depression':95,\n",
    " 'irritability':96,\n",
    " 'muscle_pain':97,\n",
    " 'altered_sensorium':98,\n",
    " 'red_spots_over_body':99,\n",
    " 'belly_pain':100,\n",
    " 'abnormal_menstruation':101,\n",
    " 'dischromic _patches':102,\n",
    " 'watering_from_eyes':103,\n",
    " 'increased_appetite':104,\n",
    " 'polyuria':105,\n",
    " 'family_history':106,\n",
    " 'mucoid_sputum':107,\n",
    " 'rusty_sputum':108,\n",
    " 'lack_of_concentration':109,\n",
    " 'visual_disturbances':110,\n",
    " 'receiving_blood_transfusion':111,\n",
    " 'receiving_unsterile_injections':112,\n",
    " 'coma':113,\n",
    " 'stomach_bleeding':114,\n",
    " 'distention_of_abdomen':115,\n",
    " 'history_of_alcohol_consumption':116,\n",
    " 'fluid_overload.1':117,\n",
    " 'blood_in_sputum':118,\n",
    " 'prominent_veins_on_calf':119,\n",
    " 'palpitations':120,\n",
    " 'painful_walking':121,\n",
    " 'pus_filled_pimples':122,\n",
    " 'blackheads':123,\n",
    " 'scurring':124,\n",
    " 'skin_peeling':125,\n",
    " 'silver_like_dusting':126,\n",
    " 'small_dents_in_nails':127,\n",
    " 'inflammatory_nails':128,\n",
    " 'blister':129,\n",
    " 'red_sore_around_nose':130,\n",
    " 'yellow_crust_ooze':131}\n"
   ]
  },
  {
   "cell_type": "code",
   "execution_count": 37,
   "id": "4d5c8285-36e5-4609-a1e8-742784d4ead0",
   "metadata": {},
   "outputs": [],
   "source": [
    "# DISEASE  LIST "
   ]
  },
  {
   "cell_type": "code",
   "execution_count": 38,
   "id": "d72786c4-82d6-4a2a-b61b-5b7ebde53d25",
   "metadata": {},
   "outputs": [],
   "source": [
    "diseases_list ={'Fungal infection':15, 'Allergy':4, 'GERD':16, 'Chronic cholestasis':9,\n",
    "       'Drug Reaction':14, 'Peptic ulcer diseae':33, 'AIDS':1, 'Diabetes ':12,\n",
    "       'Gastroenteritis':17, 'Bronchial Asthma':6, 'Hypertension ':23, 'Migraine':30,\n",
    "       'Cervical spondylosis':7, 'Paralysis (brain hemorrhage)':32, 'Jaundice':28,\n",
    "       'Malaria':29, 'Chicken pox':8, 'Dengue':11, 'Typhoid':37, 'hepatitis A':40,\n",
    "       'Hepatitis B':19, 'Hepatitis C':20, 'Hepatitis D':21, 'Hepatitis E':22,\n",
    "       'Alcoholic hepatitis':3, 'Tuberculosis':36, 'Common Cold':10, 'Pneumonia':34,\n",
    "       'Dimorphic hemmorhoids(piles)':13, 'Heart attack':18, 'Varicose veins':39,\n",
    "       'Hypothyroidism':26, 'Hyperthyroidism':24, 'Hypoglycemia':25,\n",
    "       'Osteoarthristis':31, 'Arthritis':5,\n",
    "       '(vertigo) Paroymsal  Positional Vertigo':0, 'Acne':2,\n",
    "       'Urinary tract infection':38, 'Psoriasis':35, 'Impetigo':27}"
   ]
  },
  {
   "cell_type": "code",
   "execution_count": null,
   "id": "24cd3e53-86fe-4598-8222-3f389f4b2c55",
   "metadata": {},
   "outputs": [],
   "source": []
  },
  {
   "cell_type": "code",
   "execution_count": 39,
   "id": "4e63fe01-ca63-4b81-ac5d-a67609e0581b",
   "metadata": {},
   "outputs": [],
   "source": [
    "#  to create model prediction function \n",
    "def get_predicted_values(patient_symptoms):\n",
    "    input_vector =np.zeros(len(symptoms_dict))\n",
    "    for item in patient_symptoms:\n",
    "        if item in symptoms_dict:\n",
    "           input_vector[symptoms_dict[item]] =1\n",
    "    predicted_index = svc.predict([input_vector])[0]\n",
    "    if predicted_index < len(le.classes_):\n",
    "        return le.inverse_transform([predicted_index])[0]\n",
    "    else:\n",
    "        return \"Unknown disease\""
   ]
  },
  {
   "cell_type": "code",
   "execution_count": null,
   "id": "75e60201-4e04-4a80-93b7-0cc8085ff059",
   "metadata": {},
   "outputs": [],
   "source": [
    "import warnings\n",
    "warnings.filterwarnings(\"ignore\")\n",
    "symptoms = input(\"Enter yours symptoms.............\")\n",
    "user_symptoms = [s.strip()  for s in symptoms.split(',')]\n",
    "user_symptoms =[sym.strip(\"[]' \") for sym in user_symptoms]\n",
    "predicted_diseases = get_predicted_values(user_symptoms)\n",
    "desc,pre,med,die,wrkout = helper(predicted_diseases)\n",
    "#Rresult  print\n",
    "print(\"===============================Pedicted Disease===========================\")\n",
    "print(predicted_diseases)\n",
    "print(\"===============================Description================================\")\n",
    "print(desc)\n",
    "print(\"===============================Precaution=================================\")\n",
    "i =0\n",
    "for p_i in pre[0]:\n",
    "    print(i,\":\",p_i)\n",
    "    i+=1\n",
    "print(\"==============================Medications=================================\")\n",
    "i =1 \n",
    "for m_i in med:\n",
    "    print(i,\":\" ,m_i)\n",
    "    i+=1\n",
    "print(\"==============================Workout=====================================\")\n",
    "i =1\n",
    "for w_i in wrkout:\n",
    "    print(i,\":\" ,w_i)\n",
    "    i+=1\n",
    "print(\"==============================Diets=======================================\")\n",
    "i =1\n",
    "for d in die:\n",
    "    print(i ,\":\" ,d)\n",
    "    i+=1"
   ]
  },
  {
   "cell_type": "code",
   "execution_count": 152,
   "id": "405f25f6-119f-41d4-8955-fb4da55dd019",
   "metadata": {},
   "outputs": [
    {
     "name": "stdout",
     "output_type": "stream",
     "text": [
      "1.5.0\n"
     ]
    }
   ],
   "source": [
    "import sklearn\n",
    "print(sklearn.__version__)\n"
   ]
  },
  {
   "cell_type": "code",
   "execution_count": null,
   "id": "bc892b60-6672-4736-b1b7-fabbe406548b",
   "metadata": {},
   "outputs": [],
   "source": [
    "\n"
   ]
  }
 ],
 "metadata": {
  "kernelspec": {
   "display_name": "Python 3 (ipykernel)",
   "language": "python",
   "name": "python3"
  },
  "language_info": {
   "codemirror_mode": {
    "name": "ipython",
    "version": 3
   },
   "file_extension": ".py",
   "mimetype": "text/x-python",
   "name": "python",
   "nbconvert_exporter": "python",
   "pygments_lexer": "ipython3",
   "version": "3.11.7"
  }
 },
 "nbformat": 4,
 "nbformat_minor": 5
}
